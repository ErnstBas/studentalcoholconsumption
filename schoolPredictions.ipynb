{
 "cells": [
  {
   "cell_type": "markdown",
   "id": "electoral-today",
   "metadata": {},
   "source": [
    "Can we predict what makes a student successful? (spoiler: it is not alcohol consumption)"
   ]
  },
  {
   "cell_type": "markdown",
   "id": "serious-second",
   "metadata": {},
   "source": [
    "![](29.06-portugal.jpg)\n",
    "\n",
    "This dataset is  obtained in a survey of students math and portuguese language courses in secondary school. It contains social, gender and study information about students. It is recommended to  use it for some EDA or to predict students final grade.I used the publication by Paolo Cortez and Alice Silva to try out some regression and classification methods.\n",
    "\n",
    "I will perform some basic EDA, prepare the data, perform some feature selection and try out some regression and classification methods. Finally I will reflect on the central question of this reseach: can we predict a student's final grade?  \n",
    "\n",
    "I am beginning my data science journey. So there will be mistakes in this notebook. Constructive critisism and suggestions for improvement are very much welcome.\n",
    "\n"
   ]
  },
  {
   "cell_type": "code",
   "execution_count": 1,
   "id": "statewide-australian",
   "metadata": {},
   "outputs": [],
   "source": [
    "import pandas as pd\n",
    "import numpy as np\n",
    "import seaborn as sns\n",
    "import matplotlib.pyplot as plt\n",
    "from sklearn.linear_model import Lasso\n",
    "from sklearn.feature_selection import SelectFromModel\n",
    "from sklearn.model_selection import train_test_split\n",
    "from xgboost import XGBRegressor\n",
    "from sklearn.metrics import mean_absolute_error\n",
    "from sklearn.neural_network import MLPRegressor\n",
    "from sklearn.linear_model import LinearRegression\n",
    "from sklearn.linear_model import LogisticRegression\n",
    "from sklearn import tree\n",
    "from sklearn.tree import DecisionTreeClassifier\n",
    "from sklearn.ensemble import RandomForestRegressor\n",
    "from sklearn.metrics import classification_report\n",
    "from sklearn.neighbors import KNeighborsClassifier\n",
    "from sklearn.svm import SVC"
   ]
  },
  {
   "cell_type": "markdown",
   "id": "exempt-elements",
   "metadata": {},
   "source": [
    "For this notebook I will only use the math dataset. Let start with getting some insights in the data."
   ]
  },
  {
   "cell_type": "code",
   "execution_count": 2,
   "id": "sharp-figure",
   "metadata": {},
   "outputs": [],
   "source": [
    "data_full = pd.read_csv('student-mat.csv')"
   ]
  },
  {
   "cell_type": "code",
   "execution_count": 3,
   "id": "retired-advisory",
   "metadata": {},
   "outputs": [
    {
     "data": {
      "text/html": [
       "<div>\n",
       "<style scoped>\n",
       "    .dataframe tbody tr th:only-of-type {\n",
       "        vertical-align: middle;\n",
       "    }\n",
       "\n",
       "    .dataframe tbody tr th {\n",
       "        vertical-align: top;\n",
       "    }\n",
       "\n",
       "    .dataframe thead th {\n",
       "        text-align: right;\n",
       "    }\n",
       "</style>\n",
       "<table border=\"1\" class=\"dataframe\">\n",
       "  <thead>\n",
       "    <tr style=\"text-align: right;\">\n",
       "      <th></th>\n",
       "      <th>school</th>\n",
       "      <th>sex</th>\n",
       "      <th>age</th>\n",
       "      <th>address</th>\n",
       "      <th>famsize</th>\n",
       "      <th>Pstatus</th>\n",
       "      <th>Medu</th>\n",
       "      <th>Fedu</th>\n",
       "      <th>Mjob</th>\n",
       "      <th>Fjob</th>\n",
       "      <th>...</th>\n",
       "      <th>famrel</th>\n",
       "      <th>freetime</th>\n",
       "      <th>goout</th>\n",
       "      <th>Dalc</th>\n",
       "      <th>Walc</th>\n",
       "      <th>health</th>\n",
       "      <th>absences</th>\n",
       "      <th>G1</th>\n",
       "      <th>G2</th>\n",
       "      <th>G3</th>\n",
       "    </tr>\n",
       "  </thead>\n",
       "  <tbody>\n",
       "    <tr>\n",
       "      <th>0</th>\n",
       "      <td>GP</td>\n",
       "      <td>F</td>\n",
       "      <td>18</td>\n",
       "      <td>U</td>\n",
       "      <td>GT3</td>\n",
       "      <td>A</td>\n",
       "      <td>4</td>\n",
       "      <td>4</td>\n",
       "      <td>at_home</td>\n",
       "      <td>teacher</td>\n",
       "      <td>...</td>\n",
       "      <td>4</td>\n",
       "      <td>3</td>\n",
       "      <td>4</td>\n",
       "      <td>1</td>\n",
       "      <td>1</td>\n",
       "      <td>3</td>\n",
       "      <td>6</td>\n",
       "      <td>5</td>\n",
       "      <td>6</td>\n",
       "      <td>6</td>\n",
       "    </tr>\n",
       "    <tr>\n",
       "      <th>1</th>\n",
       "      <td>GP</td>\n",
       "      <td>F</td>\n",
       "      <td>17</td>\n",
       "      <td>U</td>\n",
       "      <td>GT3</td>\n",
       "      <td>T</td>\n",
       "      <td>1</td>\n",
       "      <td>1</td>\n",
       "      <td>at_home</td>\n",
       "      <td>other</td>\n",
       "      <td>...</td>\n",
       "      <td>5</td>\n",
       "      <td>3</td>\n",
       "      <td>3</td>\n",
       "      <td>1</td>\n",
       "      <td>1</td>\n",
       "      <td>3</td>\n",
       "      <td>4</td>\n",
       "      <td>5</td>\n",
       "      <td>5</td>\n",
       "      <td>6</td>\n",
       "    </tr>\n",
       "    <tr>\n",
       "      <th>2</th>\n",
       "      <td>GP</td>\n",
       "      <td>F</td>\n",
       "      <td>15</td>\n",
       "      <td>U</td>\n",
       "      <td>LE3</td>\n",
       "      <td>T</td>\n",
       "      <td>1</td>\n",
       "      <td>1</td>\n",
       "      <td>at_home</td>\n",
       "      <td>other</td>\n",
       "      <td>...</td>\n",
       "      <td>4</td>\n",
       "      <td>3</td>\n",
       "      <td>2</td>\n",
       "      <td>2</td>\n",
       "      <td>3</td>\n",
       "      <td>3</td>\n",
       "      <td>10</td>\n",
       "      <td>7</td>\n",
       "      <td>8</td>\n",
       "      <td>10</td>\n",
       "    </tr>\n",
       "    <tr>\n",
       "      <th>3</th>\n",
       "      <td>GP</td>\n",
       "      <td>F</td>\n",
       "      <td>15</td>\n",
       "      <td>U</td>\n",
       "      <td>GT3</td>\n",
       "      <td>T</td>\n",
       "      <td>4</td>\n",
       "      <td>2</td>\n",
       "      <td>health</td>\n",
       "      <td>services</td>\n",
       "      <td>...</td>\n",
       "      <td>3</td>\n",
       "      <td>2</td>\n",
       "      <td>2</td>\n",
       "      <td>1</td>\n",
       "      <td>1</td>\n",
       "      <td>5</td>\n",
       "      <td>2</td>\n",
       "      <td>15</td>\n",
       "      <td>14</td>\n",
       "      <td>15</td>\n",
       "    </tr>\n",
       "    <tr>\n",
       "      <th>4</th>\n",
       "      <td>GP</td>\n",
       "      <td>F</td>\n",
       "      <td>16</td>\n",
       "      <td>U</td>\n",
       "      <td>GT3</td>\n",
       "      <td>T</td>\n",
       "      <td>3</td>\n",
       "      <td>3</td>\n",
       "      <td>other</td>\n",
       "      <td>other</td>\n",
       "      <td>...</td>\n",
       "      <td>4</td>\n",
       "      <td>3</td>\n",
       "      <td>2</td>\n",
       "      <td>1</td>\n",
       "      <td>2</td>\n",
       "      <td>5</td>\n",
       "      <td>4</td>\n",
       "      <td>6</td>\n",
       "      <td>10</td>\n",
       "      <td>10</td>\n",
       "    </tr>\n",
       "  </tbody>\n",
       "</table>\n",
       "<p>5 rows × 33 columns</p>\n",
       "</div>"
      ],
      "text/plain": [
       "  school sex  age address famsize Pstatus  Medu  Fedu     Mjob      Fjob  ...  \\\n",
       "0     GP   F   18       U     GT3       A     4     4  at_home   teacher  ...   \n",
       "1     GP   F   17       U     GT3       T     1     1  at_home     other  ...   \n",
       "2     GP   F   15       U     LE3       T     1     1  at_home     other  ...   \n",
       "3     GP   F   15       U     GT3       T     4     2   health  services  ...   \n",
       "4     GP   F   16       U     GT3       T     3     3    other     other  ...   \n",
       "\n",
       "  famrel freetime  goout  Dalc  Walc health absences  G1  G2  G3  \n",
       "0      4        3      4     1     1      3        6   5   6   6  \n",
       "1      5        3      3     1     1      3        4   5   5   6  \n",
       "2      4        3      2     2     3      3       10   7   8  10  \n",
       "3      3        2      2     1     1      5        2  15  14  15  \n",
       "4      4        3      2     1     2      5        4   6  10  10  \n",
       "\n",
       "[5 rows x 33 columns]"
      ]
     },
     "execution_count": 3,
     "metadata": {},
     "output_type": "execute_result"
    }
   ],
   "source": [
    "data_full.head()"
   ]
  },
  {
   "cell_type": "code",
   "execution_count": 4,
   "id": "banner-composite",
   "metadata": {},
   "outputs": [
    {
     "data": {
      "text/plain": [
       "(395, 33)"
      ]
     },
     "execution_count": 4,
     "metadata": {},
     "output_type": "execute_result"
    }
   ],
   "source": [
    "data_full.shape"
   ]
  },
  {
   "cell_type": "markdown",
   "id": "reported-solid",
   "metadata": {},
   "source": [
    "Let's see whether our data is categorical or numerical"
   ]
  },
  {
   "cell_type": "code",
   "execution_count": 5,
   "id": "proof-diploma",
   "metadata": {},
   "outputs": [
    {
     "data": {
      "text/plain": [
       "school        object\n",
       "sex           object\n",
       "age            int64\n",
       "address       object\n",
       "famsize       object\n",
       "Pstatus       object\n",
       "Medu           int64\n",
       "Fedu           int64\n",
       "Mjob          object\n",
       "Fjob          object\n",
       "reason        object\n",
       "guardian      object\n",
       "traveltime     int64\n",
       "studytime      int64\n",
       "failures       int64\n",
       "schoolsup     object\n",
       "famsup        object\n",
       "paid          object\n",
       "activities    object\n",
       "nursery       object\n",
       "higher        object\n",
       "internet      object\n",
       "romantic      object\n",
       "famrel         int64\n",
       "freetime       int64\n",
       "goout          int64\n",
       "Dalc           int64\n",
       "Walc           int64\n",
       "health         int64\n",
       "absences       int64\n",
       "G1             int64\n",
       "G2             int64\n",
       "G3             int64\n",
       "dtype: object"
      ]
     },
     "execution_count": 5,
     "metadata": {},
     "output_type": "execute_result"
    }
   ],
   "source": [
    "data_full.dtypes"
   ]
  },
  {
   "cell_type": "markdown",
   "id": "catholic-doctor",
   "metadata": {},
   "source": [
    "The heatmap below shows the correlation between the various features. The variables with the strongest correlation are G1 - first period grade and G2 - second period grade. To a lesser extent other features like 'failures' and the level of eduction of the student's mother contribute to the exam results. Alcohol consumption does not seem to influence much in this dataset.\n",
    "\n"
   ]
  },
  {
   "cell_type": "code",
   "execution_count": 6,
   "id": "robust-ladder",
   "metadata": {},
   "outputs": [
    {
     "data": {
      "text/plain": [
       "<AxesSubplot:>"
      ]
     },
     "execution_count": 6,
     "metadata": {},
     "output_type": "execute_result"
    },
    {
     "data": {
      "image/png": "[encoded data removed]",
      "text/plain": [
       "<Figure size 1080x864 with 2 Axes>"
      ]
     },
     "metadata": {
      "needs_background": "light"
     },
     "output_type": "display_data"
    }
   ],
   "source": [
    "corr = data_full.corr()\n",
    "plt.subplots(figsize=(15,12))\n",
    "sns.heatmap(corr, vmax=0.9, cmap=\"Blues\", square=True, annot=True)\n",
    "\n"
   ]
  },
  {
   "cell_type": "markdown",
   "id": "ahead-conspiracy",
   "metadata": {},
   "source": [
    "Let's check if there is any missing data."
   ]
  },
  {
   "cell_type": "code",
   "execution_count": 7,
   "id": "metropolitan-taylor",
   "metadata": {},
   "outputs": [
    {
     "data": {
      "text/plain": [
       "school        0\n",
       "sex           0\n",
       "age           0\n",
       "address       0\n",
       "famsize       0\n",
       "Pstatus       0\n",
       "Medu          0\n",
       "Fedu          0\n",
       "Mjob          0\n",
       "Fjob          0\n",
       "reason        0\n",
       "guardian      0\n",
       "traveltime    0\n",
       "studytime     0\n",
       "failures      0\n",
       "schoolsup     0\n",
       "famsup        0\n",
       "paid          0\n",
       "activities    0\n",
       "nursery       0\n",
       "higher        0\n",
       "internet      0\n",
       "romantic      0\n",
       "famrel        0\n",
       "freetime      0\n",
       "goout         0\n",
       "Dalc          0\n",
       "Walc          0\n",
       "health        0\n",
       "absences      0\n",
       "G1            0\n",
       "G2            0\n",
       "G3            0\n",
       "dtype: int64"
      ]
     },
     "execution_count": 7,
     "metadata": {},
     "output_type": "execute_result"
    }
   ],
   "source": [
    "data_full.isnull().sum()"
   ]
  },
  {
   "cell_type": "markdown",
   "id": "naughty-vancouver",
   "metadata": {},
   "source": [
    "Next we will analyse the distribution of the dependent variable, G3 - final grade. It seems like a almost normal distribution, apart from almost 40 students with 0 marks, which could be meaningful."
   ]
  },
  {
   "cell_type": "code",
   "execution_count": 8,
   "id": "incorrect-insight",
   "metadata": {},
   "outputs": [
    {
     "data": {
      "image/png": "[encoded data removed]",
      "text/plain": [
       "<Figure size 576x504 with 1 Axes>"
      ]
     },
     "metadata": {},
     "output_type": "display_data"
    }
   ],
   "source": [
    "sns.set_style(\"white\")\n",
    "sns.set_color_codes(palette='deep')\n",
    "f, ax = plt.subplots(figsize=(8, 7))\n",
    "#Check the new distribution \n",
    "sns.histplot(data_full['G3'], color=\"b\");\n",
    "ax.xaxis.grid(False)\n",
    "ax.set(ylabel=\"Frequency\")\n",
    "ax.set(xlabel=\"final grade\")\n",
    "ax.set(title=\"Final grade distribution\")\n",
    "sns.despine(trim=True, left=True)\n",
    "plt.show()"
   ]
  },
  {
   "cell_type": "markdown",
   "id": "conventional-bargain",
   "metadata": {},
   "source": [
    "Now let's split the dataset in dependent (G3) and independent variables. I think we can use this dataset to test both regression and classification algorithms. I will use some methods to predict student's scores and also a few algorithms to predict whether a student will pass or fail the final exam. Therefore, I will prepare a binary version of the y-values for classification. "
   ]
  },
  {
   "cell_type": "code",
   "execution_count": 9,
   "id": "urban-texture",
   "metadata": {},
   "outputs": [],
   "source": [
    "y = data_full['G3']\n",
    "\n",
    "data_full['G3'] = [1 if x >= 10 else 0 for x in data_full['G3']]\n",
    "\n",
    "y_bool = data_full['G3']\n",
    "\n",
    "data = data_full.drop(['G3'], axis=1)\n",
    "\n"
   ]
  },
  {
   "cell_type": "code",
   "execution_count": 10,
   "id": "vital-coordination",
   "metadata": {},
   "outputs": [],
   "source": [
    "# One-hot encode the data \n",
    "data = pd.get_dummies(data).reset_index(drop=True)\n"
   ]
  },
  {
   "cell_type": "markdown",
   "id": "radio-circus",
   "metadata": {},
   "source": [
    "As we have seen in the heatmap, not all features seem to be relevant. We can use Lasso to select the most relevant variables. "
   ]
  },
  {
   "cell_type": "code",
   "execution_count": 11,
   "id": "fixed-trauma",
   "metadata": {},
   "outputs": [
    {
     "name": "stdout",
     "output_type": "stream",
     "text": [
      "total features: 58\n",
      "selected features: 6\n",
      "features with coefficients shrank to zero: 52\n"
     ]
    }
   ],
   "source": [
    "# Select features with lasso\n",
    "\n",
    "feature_sel_model = SelectFromModel(Lasso(alpha=0.03, random_state=0)) \n",
    "feature_sel_model.fit(data, y)\n",
    "feature_sel_model.get_support()\n",
    "\n",
    "selected_feat = data.columns[(feature_sel_model.get_support())]\n",
    "\n",
    "print('total features: {}'.format((data.shape[1])))\n",
    "print('selected features: {}'.format(len(selected_feat)))\n",
    "print('features with coefficients shrank to zero: {}'.format(\n",
    "    np.sum(feature_sel_model.estimator_.coef_ == 0)))\n",
    "data = data[selected_feat]"
   ]
  },
  {
   "cell_type": "code",
   "execution_count": 12,
   "id": "documentary-chemistry",
   "metadata": {},
   "outputs": [
    {
     "data": {
      "text/html": [
       "<div>\n",
       "<style scoped>\n",
       "    .dataframe tbody tr th:only-of-type {\n",
       "        vertical-align: middle;\n",
       "    }\n",
       "\n",
       "    .dataframe tbody tr th {\n",
       "        vertical-align: top;\n",
       "    }\n",
       "\n",
       "    .dataframe thead th {\n",
       "        text-align: right;\n",
       "    }\n",
       "</style>\n",
       "<table border=\"1\" class=\"dataframe\">\n",
       "  <thead>\n",
       "    <tr style=\"text-align: right;\">\n",
       "      <th></th>\n",
       "      <th>age</th>\n",
       "      <th>goout</th>\n",
       "      <th>Walc</th>\n",
       "      <th>absences</th>\n",
       "      <th>G1</th>\n",
       "      <th>G2</th>\n",
       "    </tr>\n",
       "  </thead>\n",
       "  <tbody>\n",
       "    <tr>\n",
       "      <th>0</th>\n",
       "      <td>18</td>\n",
       "      <td>4</td>\n",
       "      <td>1</td>\n",
       "      <td>6</td>\n",
       "      <td>5</td>\n",
       "      <td>6</td>\n",
       "    </tr>\n",
       "    <tr>\n",
       "      <th>1</th>\n",
       "      <td>17</td>\n",
       "      <td>3</td>\n",
       "      <td>1</td>\n",
       "      <td>4</td>\n",
       "      <td>5</td>\n",
       "      <td>5</td>\n",
       "    </tr>\n",
       "    <tr>\n",
       "      <th>2</th>\n",
       "      <td>15</td>\n",
       "      <td>2</td>\n",
       "      <td>3</td>\n",
       "      <td>10</td>\n",
       "      <td>7</td>\n",
       "      <td>8</td>\n",
       "    </tr>\n",
       "    <tr>\n",
       "      <th>3</th>\n",
       "      <td>15</td>\n",
       "      <td>2</td>\n",
       "      <td>1</td>\n",
       "      <td>2</td>\n",
       "      <td>15</td>\n",
       "      <td>14</td>\n",
       "    </tr>\n",
       "    <tr>\n",
       "      <th>4</th>\n",
       "      <td>16</td>\n",
       "      <td>2</td>\n",
       "      <td>2</td>\n",
       "      <td>4</td>\n",
       "      <td>6</td>\n",
       "      <td>10</td>\n",
       "    </tr>\n",
       "  </tbody>\n",
       "</table>\n",
       "</div>"
      ],
      "text/plain": [
       "   age  goout  Walc  absences  G1  G2\n",
       "0   18      4     1         6   5   6\n",
       "1   17      3     1         4   5   5\n",
       "2   15      2     3        10   7   8\n",
       "3   15      2     1         2  15  14\n",
       "4   16      2     2         4   6  10"
      ]
     },
     "execution_count": 12,
     "metadata": {},
     "output_type": "execute_result"
    }
   ],
   "source": [
    "data.head()"
   ]
  },
  {
   "cell_type": "markdown",
   "id": "described-catholic",
   "metadata": {},
   "source": [
    "I will use the four regressions methods that are mentioned in the paper by Paulo Cortez and Alice Silva, which are Decision Trees, Random Forest, Neural Network and Linear Regresson, and I added XGBoost, as it was used in Kaggle's Intermediate Machine Learning course."
   ]
  },
  {
   "cell_type": "code",
   "execution_count": 13,
   "id": "structured-therapy",
   "metadata": {},
   "outputs": [
    {
     "name": "stdout",
     "output_type": "stream",
     "text": [
      "Decision Tree score:  1.0\n",
      "Mean Absolute Error:  0.06329113924050633\n",
      "Random Forest score:  0.9610073256367968\n",
      "Mean Absolute Error:  0.11764556962025317\n",
      "Linear Regression score:  0.5518097945142563\n",
      "Mean Absolute Error:  0.267696083484194\n",
      "Neural Network score:  0.750123699022327\n",
      "Mean Absolute Error:  0.1714571106230215\n",
      "XGBoost score:  0.993322449960204\n",
      "Mean Absolute Error:  0.11979734628237312\n"
     ]
    }
   ],
   "source": [
    "# Regression\n",
    "\n",
    "X_train, X_valid, Y_train, Y_valid = train_test_split(data, y, test_size=0.2) \n",
    "\n",
    "DT_model = tree.DecisionTreeRegressor()\n",
    "RF_model = RandomForestRegressor(n_estimators=500, random_state=0) # value of n_estimators based on Silva & Costa \n",
    "LinR_model = LinearRegression()\n",
    "NN_model = MLPRegressor(random_state=0, hidden_layer_sizes=(393, 395, 395), max_iter=1500, early_stopping=True)\n",
    "# Silva & Costa use, 1 layer, 100 epochs of the BFGS algorithm, but this does not perform well in my case\n",
    "XGB_model = XGBRegressor(n_estimators=100, learning_rate=0.08)\n",
    "\n",
    "DT_model.fit(X_train, Y_train)\n",
    "RF_model.fit(X_train, Y_train)\n",
    "LinR_model.fit(X_train, Y_train)\n",
    "NN_model.fit(X_train, Y_train)\n",
    "XGB_model.fit(X_train, Y_train)\n",
    "\n",
    "DT_prediction = DT_model.predict(X_valid)\n",
    "print(\"Decision Tree score: \", DT_model.score(X_train,Y_train))\n",
    "mae_DT_prediction = mean_absolute_error(DT_prediction, Y_valid)\n",
    "print(\"Mean Absolute Error: \", mae_DT_prediction)\n",
    "\n",
    "RF_prediction = RF_model.predict(X_valid)\n",
    "print(\"Random Forest score: \", RF_model.score(X_train,Y_train))\n",
    "mae_RF_prediction = mean_absolute_error(RF_prediction, Y_valid)\n",
    "print(\"Mean Absolute Error: \", mae_RF_prediction)\n",
    "\n",
    "LinR_prediction = LinR_model.predict(X_valid)\n",
    "print(\"Linear Regression score: \", LinR_model.score(X_train,Y_train))\n",
    "mae_LinR_prediction = mean_absolute_error(LinR_prediction, Y_valid)\n",
    "print(\"Mean Absolute Error: \", mae_LinR_prediction)\n",
    "\n",
    "NN_prediction = NN_model.predict(X_valid)\n",
    "print(\"Neural Network score: \", NN_model.score(X_train,Y_train))\n",
    "mae_NN_prediction = mean_absolute_error(NN_prediction, Y_valid)\n",
    "print(\"Mean Absolute Error: \", mae_NN_prediction)\n",
    "\n",
    "XGB_prediction = XGB_model.predict(X_valid)\n",
    "print(\"XGBoost score: \", XGB_model.score(X_train,Y_train))\n",
    "mae_XGB_prediction = mean_absolute_error(XGB_prediction, Y_valid)\n",
    "print(\"Mean Absolute Error: \", mae_XGB_prediction)\n"
   ]
  },
  {
   "cell_type": "markdown",
   "id": "precise-venice",
   "metadata": {},
   "source": [
    "Now let's see if we can use some classification algorithms to predict failure or success."
   ]
  },
  {
   "cell_type": "code",
   "execution_count": 14,
   "id": "worth-calculator",
   "metadata": {},
   "outputs": [
    {
     "name": "stdout",
     "output_type": "stream",
     "text": [
      "LR_prediction \n",
      "               precision    recall  f1-score   support\n",
      "\n",
      "           0       0.92      0.85      0.88        26\n",
      "           1       0.93      0.96      0.94        53\n",
      "\n",
      "    accuracy                           0.92        79\n",
      "   macro avg       0.92      0.90      0.91        79\n",
      "weighted avg       0.92      0.92      0.92        79\n",
      "\n",
      "SVC_prediction \n",
      "               precision    recall  f1-score   support\n",
      "\n",
      "           0       0.83      0.87      0.85        23\n",
      "           1       0.95      0.93      0.94        56\n",
      "\n",
      "    accuracy                           0.91        79\n",
      "   macro avg       0.89      0.90      0.89        79\n",
      "weighted avg       0.91      0.91      0.91        79\n",
      "\n",
      "KNN_prediction \n",
      "               precision    recall  f1-score   support\n",
      "\n",
      "           0       0.83      0.80      0.82        25\n",
      "           1       0.91      0.93      0.92        54\n",
      "\n",
      "    accuracy                           0.89        79\n",
      "   macro avg       0.87      0.86      0.87        79\n",
      "weighted avg       0.89      0.89      0.89        79\n",
      "\n"
     ]
    }
   ],
   "source": [
    "# Classification\n",
    "\n",
    "X_train, X_valid, Y_train, Y_valid = train_test_split(data, y_bool, test_size=0.2) \n",
    "\n",
    "LR_model = LogisticRegression(max_iter=500)\n",
    "SVC_model = SVC()\n",
    "KNN_model = KNeighborsClassifier(n_neighbors=5)\n",
    "\n",
    "LR_model.fit(X_train, Y_train)\n",
    "SVC_model.fit(X_train, Y_train)\n",
    "KNN_model.fit(X_train, Y_train)\n",
    "\n",
    "LR_prediction = LR_model.predict(X_valid)\n",
    "SVC_prediction = SVC_model.predict(X_valid)\n",
    "KNN_prediction = KNN_model.predict(X_valid)\n",
    "\n",
    "# print classification report\n",
    "print('LR_prediction \\n', classification_report(LR_prediction, Y_valid))\n",
    "print('SVC_prediction \\n',classification_report(SVC_prediction, Y_valid))\n",
    "print('KNN_prediction \\n',classification_report(KNN_prediction, Y_valid))"
   ]
  },
  {
   "cell_type": "markdown",
   "id": "changed-dryer",
   "metadata": {},
   "source": [
    "The algorithms seem to work well. The neural network is outperformed by others. Cortez & Silva explain that this is due to the presenc of irrelevant data. In my case it could also be a lack of understanding how to tweak MLPRegressor correctly. As pointed out by Cortez & Silva, student achievement is highly influenced by previous performances, in particular by the variables G2 and G1. However, I would argue that this does not explain well what makes a student successful or not. Passing the G1 and G2 exams certainly depend on other factors. A successful student will pass all the exams, but what makes the difference? Does this dataset provide some insight in other variables that could predict a student's final mark? Therefore, let's drop the exam results and focus on the other features, perform the same pipeline and see whether the remaining data can predict the final exam outcomes.\n"
   ]
  },
  {
   "cell_type": "code",
   "execution_count": 15,
   "id": "incorporate-offense",
   "metadata": {},
   "outputs": [],
   "source": [
    "data_clean = data_full.drop(['G3', 'G2', 'G1'], axis=1)"
   ]
  },
  {
   "cell_type": "code",
   "execution_count": 16,
   "id": "rental-latvia",
   "metadata": {},
   "outputs": [],
   "source": [
    "# One-hot encode the data \n",
    "data_clean = pd.get_dummies(data_clean).reset_index(drop=True)"
   ]
  },
  {
   "cell_type": "code",
   "execution_count": 17,
   "id": "therapeutic-invitation",
   "metadata": {},
   "outputs": [
    {
     "name": "stdout",
     "output_type": "stream",
     "text": [
      "total features: 56\n",
      "selected features: 17\n",
      "features with coefficients shrank to zero: 37\n"
     ]
    }
   ],
   "source": [
    "# Select features with lasso\n",
    "\n",
    "feature_sel_model = SelectFromModel(Lasso(alpha=0.01, random_state=0)) \n",
    "feature_sel_model.fit(data_clean, y)\n",
    "feature_sel_model.get_support()\n",
    "\n",
    "selected_feat = data_clean.columns[(feature_sel_model.get_support())]\n",
    "\n",
    "print('total features: {}'.format((data_clean.shape[1])))\n",
    "print('selected features: {}'.format(len(selected_feat)))\n",
    "print('features with coefficients shrank to zero: {}'.format(\n",
    "    np.sum(feature_sel_model.estimator_.coef_ == 0)))\n",
    "data = data_clean[selected_feat]"
   ]
  },
  {
   "cell_type": "code",
   "execution_count": 18,
   "id": "million-lesbian",
   "metadata": {},
   "outputs": [
    {
     "data": {
      "text/html": [
       "<div>\n",
       "<style scoped>\n",
       "    .dataframe tbody tr th:only-of-type {\n",
       "        vertical-align: middle;\n",
       "    }\n",
       "\n",
       "    .dataframe tbody tr th {\n",
       "        vertical-align: top;\n",
       "    }\n",
       "\n",
       "    .dataframe thead th {\n",
       "        text-align: right;\n",
       "    }\n",
       "</style>\n",
       "<table border=\"1\" class=\"dataframe\">\n",
       "  <thead>\n",
       "    <tr style=\"text-align: right;\">\n",
       "      <th></th>\n",
       "      <th>age</th>\n",
       "      <th>Medu</th>\n",
       "      <th>Fedu</th>\n",
       "      <th>studytime</th>\n",
       "      <th>failures</th>\n",
       "      <th>famrel</th>\n",
       "      <th>freetime</th>\n",
       "      <th>goout</th>\n",
       "      <th>Walc</th>\n",
       "      <th>health</th>\n",
       "      <th>absences</th>\n",
       "      <th>sex_F</th>\n",
       "      <th>Mjob_services</th>\n",
       "      <th>reason_course</th>\n",
       "      <th>schoolsup_no</th>\n",
       "      <th>famsup_no</th>\n",
       "      <th>romantic_no</th>\n",
       "    </tr>\n",
       "  </thead>\n",
       "  <tbody>\n",
       "    <tr>\n",
       "      <th>0</th>\n",
       "      <td>18</td>\n",
       "      <td>4</td>\n",
       "      <td>4</td>\n",
       "      <td>2</td>\n",
       "      <td>0</td>\n",
       "      <td>4</td>\n",
       "      <td>3</td>\n",
       "      <td>4</td>\n",
       "      <td>1</td>\n",
       "      <td>3</td>\n",
       "      <td>6</td>\n",
       "      <td>1</td>\n",
       "      <td>0</td>\n",
       "      <td>1</td>\n",
       "      <td>0</td>\n",
       "      <td>1</td>\n",
       "      <td>1</td>\n",
       "    </tr>\n",
       "    <tr>\n",
       "      <th>1</th>\n",
       "      <td>17</td>\n",
       "      <td>1</td>\n",
       "      <td>1</td>\n",
       "      <td>2</td>\n",
       "      <td>0</td>\n",
       "      <td>5</td>\n",
       "      <td>3</td>\n",
       "      <td>3</td>\n",
       "      <td>1</td>\n",
       "      <td>3</td>\n",
       "      <td>4</td>\n",
       "      <td>1</td>\n",
       "      <td>0</td>\n",
       "      <td>1</td>\n",
       "      <td>1</td>\n",
       "      <td>0</td>\n",
       "      <td>1</td>\n",
       "    </tr>\n",
       "    <tr>\n",
       "      <th>2</th>\n",
       "      <td>15</td>\n",
       "      <td>1</td>\n",
       "      <td>1</td>\n",
       "      <td>2</td>\n",
       "      <td>3</td>\n",
       "      <td>4</td>\n",
       "      <td>3</td>\n",
       "      <td>2</td>\n",
       "      <td>3</td>\n",
       "      <td>3</td>\n",
       "      <td>10</td>\n",
       "      <td>1</td>\n",
       "      <td>0</td>\n",
       "      <td>0</td>\n",
       "      <td>0</td>\n",
       "      <td>1</td>\n",
       "      <td>1</td>\n",
       "    </tr>\n",
       "    <tr>\n",
       "      <th>3</th>\n",
       "      <td>15</td>\n",
       "      <td>4</td>\n",
       "      <td>2</td>\n",
       "      <td>3</td>\n",
       "      <td>0</td>\n",
       "      <td>3</td>\n",
       "      <td>2</td>\n",
       "      <td>2</td>\n",
       "      <td>1</td>\n",
       "      <td>5</td>\n",
       "      <td>2</td>\n",
       "      <td>1</td>\n",
       "      <td>0</td>\n",
       "      <td>0</td>\n",
       "      <td>1</td>\n",
       "      <td>0</td>\n",
       "      <td>0</td>\n",
       "    </tr>\n",
       "    <tr>\n",
       "      <th>4</th>\n",
       "      <td>16</td>\n",
       "      <td>3</td>\n",
       "      <td>3</td>\n",
       "      <td>2</td>\n",
       "      <td>0</td>\n",
       "      <td>4</td>\n",
       "      <td>3</td>\n",
       "      <td>2</td>\n",
       "      <td>2</td>\n",
       "      <td>5</td>\n",
       "      <td>4</td>\n",
       "      <td>1</td>\n",
       "      <td>0</td>\n",
       "      <td>0</td>\n",
       "      <td>1</td>\n",
       "      <td>0</td>\n",
       "      <td>1</td>\n",
       "    </tr>\n",
       "  </tbody>\n",
       "</table>\n",
       "</div>"
      ],
      "text/plain": [
       "   age  Medu  Fedu  studytime  failures  famrel  freetime  goout  Walc  \\\n",
       "0   18     4     4          2         0       4         3      4     1   \n",
       "1   17     1     1          2         0       5         3      3     1   \n",
       "2   15     1     1          2         3       4         3      2     3   \n",
       "3   15     4     2          3         0       3         2      2     1   \n",
       "4   16     3     3          2         0       4         3      2     2   \n",
       "\n",
       "   health  absences  sex_F  Mjob_services  reason_course  schoolsup_no  \\\n",
       "0       3         6      1              0              1             0   \n",
       "1       3         4      1              0              1             1   \n",
       "2       3        10      1              0              0             0   \n",
       "3       5         2      1              0              0             1   \n",
       "4       5         4      1              0              0             1   \n",
       "\n",
       "   famsup_no  romantic_no  \n",
       "0          1            1  \n",
       "1          0            1  \n",
       "2          1            1  \n",
       "3          0            0  \n",
       "4          0            1  "
      ]
     },
     "execution_count": 18,
     "metadata": {},
     "output_type": "execute_result"
    }
   ],
   "source": [
    "data.head()"
   ]
  },
  {
   "cell_type": "code",
   "execution_count": 19,
   "id": "southwest-ensemble",
   "metadata": {},
   "outputs": [
    {
     "name": "stdout",
     "output_type": "stream",
     "text": [
      "Decision Tree score:  1.0\n",
      "Mean Absolute Error:  0.35443037974683544\n",
      "Random Forest score:  0.874946109796999\n",
      "Mean Absolute Error:  0.35645569620253165\n",
      "Linear Regression score:  0.2218398210262278\n",
      "Mean Absolute Error:  0.31969910633714893\n",
      "Neural Network score:  0.4596263684349212\n",
      "Mean Absolute Error:  0.3932687576780837\n",
      "XGBoost score:  0.9262563098912507\n",
      "Mean Absolute Error:  0.3528130169297698\n"
     ]
    }
   ],
   "source": [
    "# Regression\n",
    "\n",
    "X_train, X_valid, Y_train, Y_valid = train_test_split(data_clean, y, test_size=0.2) \n",
    "\n",
    "DT_model = tree.DecisionTreeRegressor()\n",
    "RF_model = RandomForestRegressor(n_estimators=500, random_state=0) \n",
    "LinR_model = LinearRegression()\n",
    "NN_model = MLPRegressor(random_state=0, hidden_layer_sizes=(395, 395, 395), max_iter=1500, early_stopping=True)\n",
    "XGB_model = XGBRegressor(n_estimators=100, learning_rate=0.05)\n",
    "\n",
    "DT_model.fit(X_train, Y_train)\n",
    "RF_model.fit(X_train, Y_train)\n",
    "LinR_model.fit(X_train, Y_train)\n",
    "NN_model.fit(X_train, Y_train)\n",
    "XGB_model.fit(X_train, Y_train)\n",
    "\n",
    "DT_prediction = DT_model.predict(X_valid)\n",
    "print(\"Decision Tree score: \", DT_model.score(X_train,Y_train))\n",
    "mae_DT_prediction = mean_absolute_error(DT_prediction, Y_valid)\n",
    "print(\"Mean Absolute Error: \", mae_DT_prediction)\n",
    "\n",
    "RF_prediction = RF_model.predict(X_valid)\n",
    "print(\"Random Forest score: \", RF_model.score(X_train,Y_train))\n",
    "mae_RF_prediction = mean_absolute_error(RF_prediction, Y_valid)\n",
    "print(\"Mean Absolute Error: \", mae_RF_prediction)\n",
    "\n",
    "LinR_prediction = LinR_model.predict(X_valid)\n",
    "print(\"Linear Regression score: \", LinR_model.score(X_train,Y_train))\n",
    "mae_LinR_prediction = mean_absolute_error(LinR_prediction, Y_valid)\n",
    "print(\"Mean Absolute Error: \", mae_LinR_prediction)\n",
    "\n",
    "NN_prediction = NN_model.predict(X_valid)\n",
    "print(\"Neural Network score: \", NN_model.score(X_train,Y_train))\n",
    "mae_NN_prediction = mean_absolute_error(NN_prediction, Y_valid)\n",
    "print(\"Mean Absolute Error: \", mae_NN_prediction)\n",
    "\n",
    "XGB_prediction = XGB_model.predict(X_valid)\n",
    "print(\"XGBoost score: \", XGB_model.score(X_train,Y_train))\n",
    "mae_XGB_prediction = mean_absolute_error(XGB_prediction, Y_valid)\n",
    "print(\"Mean Absolute Error: \", mae_XGB_prediction)\n"
   ]
  },
  {
   "cell_type": "code",
   "execution_count": 20,
   "id": "stuffed-address",
   "metadata": {},
   "outputs": [
    {
     "name": "stdout",
     "output_type": "stream",
     "text": [
      "LR_prediction \n",
      "               precision    recall  f1-score   support\n",
      "\n",
      "           0       0.50      0.50      0.50        20\n",
      "           1       0.83      0.83      0.83        59\n",
      "\n",
      "    accuracy                           0.75        79\n",
      "   macro avg       0.67      0.67      0.67        79\n",
      "weighted avg       0.75      0.75      0.75        79\n",
      "\n",
      "SVC_prediction \n",
      "               precision    recall  f1-score   support\n",
      "\n",
      "           0       0.05      0.50      0.09         2\n",
      "           1       0.98      0.75      0.85        77\n",
      "\n",
      "    accuracy                           0.75        79\n",
      "   macro avg       0.52      0.63      0.47        79\n",
      "weighted avg       0.96      0.75      0.83        79\n",
      "\n",
      "KNN_prediction \n",
      "               precision    recall  f1-score   support\n",
      "\n",
      "           0       0.30      0.40      0.34        15\n",
      "           1       0.85      0.78      0.81        64\n",
      "\n",
      "    accuracy                           0.71        79\n",
      "   macro avg       0.57      0.59      0.58        79\n",
      "weighted avg       0.74      0.71      0.72        79\n",
      "\n"
     ]
    }
   ],
   "source": [
    "# Classification\n",
    "\n",
    "X_train, X_valid, Y_train, Y_valid = train_test_split(data_clean, y_bool, test_size=0.2) \n",
    "\n",
    "LR_model = LogisticRegression(max_iter=500)\n",
    "SVC_model = SVC()\n",
    "KNN_model = KNeighborsClassifier(n_neighbors=5)\n",
    "\n",
    "LR_model.fit(X_train, Y_train)\n",
    "SVC_model.fit(X_train, Y_train)\n",
    "KNN_model.fit(X_train, Y_train)\n",
    "\n",
    "LR_prediction = LR_model.predict(X_valid)\n",
    "SVC_prediction = SVC_model.predict(X_valid)\n",
    "KNN_prediction = KNN_model.predict(X_valid)\n",
    "\n",
    "# print classification report\n",
    "print('LR_prediction \\n', classification_report(LR_prediction, Y_valid))\n",
    "print('SVC_prediction \\n',classification_report(SVC_prediction, Y_valid))\n",
    "print('KNN_prediction \\n',classification_report(KNN_prediction, Y_valid))\n"
   ]
  },
  {
   "cell_type": "markdown",
   "id": "fundamental-flavor",
   "metadata": {},
   "source": [
    "Without considering the previous exam results, the algorithms struggle to predict well. In the case of classification, the models present strong class imbalances, as they prodominantly predict that students will pass the exam (especially in the case of SVM). Same for situation for the regression algorithms. For the regression algorithms, the MAE is much worse, making this dataset less useable for predictions. \n",
    "It seems to me that the dataset does not perform very well to explain and predict what makes a student successful or not. To predict student performance better, probably other variables might be considered, like the quality of the school, the teachers and learning materials used, motivation of the student, their IQ, the composition of the class and socio-economical factors.\n",
    "\n"
   ]
  },
  {
   "cell_type": "markdown",
   "id": "suffering-whale",
   "metadata": {},
   "source": [
    "Sources:\n",
    "USING DATA MINING TO PREDICT SECONDARY SCHOOL STUDENT PERFORMANCE, Paulo Cortez and Alice Silva\n",
    "http://www3.dsi.uminho.pt/pcortez/student.pdf\n",
    "Lasso: https://github.com/krishnaik06/Advanced-House-Price-Prediction-\n",
    "Kaggle Dataset: https://www.kaggle.com/uciml/student-alcohol-consumption\n",
    "kaggle Intermediate Machine Learing Course: https://www.kaggle.com/learn/intermediate-machine-learning\n",
    "Classification; https://stackabuse.com/overview-of-classification-methods-in-python-with-scikit-learn/\n",
    "Image: https://odinland.vn/a-comprehensive-guide-about-the-education-system-in-portugal/?lang=en\n",
    "https://www.youtube.com/watch?v=1JXrxCJoHuw&list=PLZoTAELRMXVMcRQwR5_J8k9S7cffVFq_U&index=6"
   ]
  }
 ],
 "metadata": {
  "kernelspec": {
   "display_name": "Python 3",
   "language": "python",
   "name": "python3"
  },
  "language_info": {
   "codemirror_mode": {
    "name": "ipython",
    "version": 3
   },
   "file_extension": ".py",
   "mimetype": "text/x-python",
   "name": "python",
   "nbconvert_exporter": "python",
   "pygments_lexer": "ipython3",
   "version": "3.9.6"
  }
 },
 "nbformat": 4,
 "nbformat_minor": 5
}
